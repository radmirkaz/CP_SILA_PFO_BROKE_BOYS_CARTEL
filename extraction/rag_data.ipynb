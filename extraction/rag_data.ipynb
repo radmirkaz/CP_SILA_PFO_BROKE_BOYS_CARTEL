{
 "cells": [
  {
   "cell_type": "markdown",
   "id": "80dbcc31-0e37-4f3f-92db-35fb9df29a16",
   "metadata": {},
   "source": [
    "# Описание файла препроцесса данных: \n",
    "\n",
    "РАЗБИЕНИЕ ДОКУМЕНТАЦИИ НА СМЫСЛОВЫЕ ГРУППЫ ЧАНКОВ:\n",
    "\n",
    "Группируем распаршенные данные из документации по категории, и смысловой схожести подкатегорий и создаем чанки (100-500 слов)\n",
    "\n",
    "ИЗВЛЕЧЕНИЕ ФОТОГРАФИЙ И ТАБЛИЦ: \n",
    "\n",
    "Извлекаем таблицы и фотографии из документации, присваивая их к соответствующему чанку\n",
    "\n",
    "ОЧИСТКА ДАННЫХ:\n",
    "\n",
    "Уменьшили количество воды и повторяющихся элементов в чанках"
   ]
  },
  {
   "cell_type": "markdown",
   "id": "30bfe919-c544-4aaf-b123-f88e13ae7e5c",
   "metadata": {
    "jp-MarkdownHeadingCollapsed": true
   },
   "source": [
    "### Загрузка данных"
   ]
  },
  {
   "cell_type": "code",
   "execution_count": 123,
   "id": "73255a4f-5663-4c23-839e-68c91dbd26ae",
   "metadata": {},
   "outputs": [],
   "source": [
    "!pip install python-docx -q"
   ]
  },
  {
   "cell_type": "code",
   "execution_count": 1,
   "id": "ab9e397d-45ed-437f-ad4a-cfa260d7e780",
   "metadata": {},
   "outputs": [],
   "source": [
    "import pandas as pd\n",
    "import numpy as np\n",
    "from docx_module import DocxHandler"
   ]
  },
  {
   "cell_type": "code",
   "execution_count": 4,
   "id": "f45b1a9e-1a56-422c-a8ff-67db8beb36f9",
   "metadata": {},
   "outputs": [],
   "source": [
    "df, texts = DocxHandler().process_file('train_data_Sila/data.docx')"
   ]
  },
  {
   "cell_type": "code",
   "execution_count": 8,
   "id": "50bff69d-5ad8-4acc-be51-7bcf77a34b5d",
   "metadata": {},
   "outputs": [],
   "source": [
    "df['text'] = df.main_text.apply(lambda x: x.split('|')[-1])"
   ]
  },
  {
   "cell_type": "code",
   "execution_count": 12,
   "id": "2e8c6170-d982-48d0-9536-0b8b8a0ca0b9",
   "metadata": {},
   "outputs": [],
   "source": [
    "df['words_count'] = df.main_text.apply(lambda x: len(x.split()))"
   ]
  },
  {
   "cell_type": "code",
   "execution_count": 13,
   "id": "430a8264-1259-48e1-b0a0-9bd9537c4c48",
   "metadata": {},
   "outputs": [],
   "source": [
    "df['name'] = df['title'] + ' - ' + df['subtitle']"
   ]
  },
  {
   "cell_type": "code",
   "execution_count": 14,
   "id": "f80548e0-4634-4b75-94f2-51a8769cd367",
   "metadata": {},
   "outputs": [],
   "source": [
    "names = list(df['name'].value_counts()[df['name'].value_counts() == 1].index)"
   ]
  },
  {
   "cell_type": "code",
   "execution_count": 60,
   "id": "8e248edf-542a-4c42-a83c-bb4654da155d",
   "metadata": {},
   "outputs": [],
   "source": [
    "new_df = []"
   ]
  },
  {
   "cell_type": "code",
   "execution_count": 31,
   "id": "f9ffcaa5-b134-42ba-8293-91b4a0cc7979",
   "metadata": {},
   "outputs": [],
   "source": [
    "about_system = df[df['title'] == 'О системе']"
   ]
  },
  {
   "cell_type": "code",
   "execution_count": 32,
   "id": "117db0c8-845a-453d-ab6f-3e3a77f7eee4",
   "metadata": {},
   "outputs": [
    {
     "data": {
      "text/plain": [
       "True"
      ]
     },
     "execution_count": 32,
     "metadata": {},
     "output_type": "execute_result"
    }
   ],
   "source": [
    "about_system.iloc[0]['subsubtitle'] == ''"
   ]
  },
  {
   "cell_type": "code",
   "execution_count": 33,
   "id": "b0bf71d1-ac3a-4262-8aca-842e008983bb",
   "metadata": {},
   "outputs": [],
   "source": [
    "def get_texts(sub_df, idx):\n",
    "    if pd.isna(sub_df['subsubtitle'].values[idx]) or sub_df['subsubtitle'].values[idx] == '':\n",
    "        return sub_df['subtitle'].values[idx] + ' | ' + sub_df['text'].values[idx]\n",
    "    else:\n",
    "        return sub_df['subtitle'].values[idx] + ' - ' + sub_df['subsubtitle'].values[idx] + ' | ' + sub_df['text'].values[idx]"
   ]
  },
  {
   "cell_type": "code",
   "execution_count": 34,
   "id": "f789d17e-516e-419f-9de2-5cbf350e2ef6",
   "metadata": {},
   "outputs": [],
   "source": [
    "about_system_main_text = 'Название секции: ' + about_system['title'].values[0] + ' / ' + get_texts(about_system, 0) + ' / ' + get_texts(about_system, 1) + ' / ' + get_texts(about_system, 2) + ' / ' + get_texts(about_system, 3)"
   ]
  },
  {
   "cell_type": "code",
   "execution_count": 61,
   "id": "4aa9b759-6f53-499d-a23a-d186ac587ee3",
   "metadata": {},
   "outputs": [],
   "source": [
    "new_df.append({'title': about_system['title'].values[0], 'subtitle': 'Наименование и обозначение системы / Область применения системы / Основные функции системы / Роли пользователей', 'images': [], 'main_text': about_system_main_text})"
   ]
  },
  {
   "cell_type": "code",
   "execution_count": 37,
   "id": "5fadca0d-cecc-4597-9c6d-238ac51e1cb3",
   "metadata": {},
   "outputs": [],
   "source": [
    "work_in_system = df[df['title'] == 'Работа в системе'].reset_index()"
   ]
  },
  {
   "cell_type": "code",
   "execution_count": 41,
   "id": "c43dc711-fb1d-4ae0-a5cd-784f2bc308c5",
   "metadata": {},
   "outputs": [],
   "source": [
    "import json\n",
    "import re"
   ]
  },
  {
   "cell_type": "code",
   "execution_count": 56,
   "id": "5e6eb9b4-2bdd-4bb0-b3eb-4e80259272cc",
   "metadata": {},
   "outputs": [],
   "source": [
    "def get_images(sub_df, idxs):\n",
    "    return [x for x in sub_df['images'].values[idxs] if x != []]"
   ]
  },
  {
   "cell_type": "code",
   "execution_count": 57,
   "id": "c9fde930-79cd-4805-bd9e-a5b36a5d3494",
   "metadata": {},
   "outputs": [],
   "source": [
    "work_in_system_main_text1 = 'Название секции: ' + work_in_system['title'].values[0] + ' / ' + get_texts(work_in_system, 0) + ' / ' + get_texts(work_in_system, 1) + ' / ' + get_texts(work_in_system, 2)"
   ]
  },
  {
   "cell_type": "code",
   "execution_count": 62,
   "id": "2141c13f-2c9f-49c8-87e0-d21420d13a0b",
   "metadata": {},
   "outputs": [],
   "source": [
    "new_df.append({'title': work_in_system['title'].values[0], 'subtitle': 'Запуск системы / Авторизация / Просмотр информации о системе', 'images': get_images(work_in_system, [0, 1, 2]), 'main_text': work_in_system_main_text1})"
   ]
  },
  {
   "cell_type": "code",
   "execution_count": 64,
   "id": "10294daf-c301-4b8e-b877-b4ffe87d22f3",
   "metadata": {},
   "outputs": [
    {
     "data": {
      "text/html": [
       "<div>\n",
       "<style scoped>\n",
       "    .dataframe tbody tr th:only-of-type {\n",
       "        vertical-align: middle;\n",
       "    }\n",
       "\n",
       "    .dataframe tbody tr th {\n",
       "        vertical-align: top;\n",
       "    }\n",
       "\n",
       "    .dataframe thead th {\n",
       "        text-align: right;\n",
       "    }\n",
       "</style>\n",
       "<table border=\"1\" class=\"dataframe\">\n",
       "  <thead>\n",
       "    <tr style=\"text-align: right;\">\n",
       "      <th></th>\n",
       "      <th>index</th>\n",
       "      <th>question_id</th>\n",
       "      <th>sub_question_id</th>\n",
       "      <th>main_text</th>\n",
       "      <th>images</th>\n",
       "      <th>title</th>\n",
       "      <th>subtitle</th>\n",
       "      <th>subsubtitle</th>\n",
       "      <th>text</th>\n",
       "      <th>words_count</th>\n",
       "      <th>name</th>\n",
       "    </tr>\n",
       "  </thead>\n",
       "  <tbody>\n",
       "    <tr>\n",
       "      <th>8</th>\n",
       "      <td>13</td>\n",
       "      <td>2</td>\n",
       "      <td>4</td>\n",
       "      <td>Название секции: Работа в системе / Управление...</td>\n",
       "      <td>[]</td>\n",
       "      <td>Работа в системе</td>\n",
       "      <td>Управление учетными записями</td>\n",
       "      <td></td>\n",
       "      <td>Текст секции: Управление учетными записями (д...</td>\n",
       "      <td>72</td>\n",
       "      <td>Работа в системе - Управление учетными записями</td>\n",
       "    </tr>\n",
       "    <tr>\n",
       "      <th>9</th>\n",
       "      <td>14</td>\n",
       "      <td>2</td>\n",
       "      <td>4.0</td>\n",
       "      <td>Название секции: Работа в системе / Управление...</td>\n",
       "      <td>[]</td>\n",
       "      <td>Работа в системе</td>\n",
       "      <td>Управление учетными записями</td>\n",
       "      <td>Создание УЗ</td>\n",
       "      <td>Текст секции: Для создания УЗ: Нажмите кнопк...</td>\n",
       "      <td>48</td>\n",
       "      <td>Работа в системе - Управление учетными записями</td>\n",
       "    </tr>\n",
       "    <tr>\n",
       "      <th>10</th>\n",
       "      <td>15</td>\n",
       "      <td>2</td>\n",
       "      <td>4.1</td>\n",
       "      <td>Название секции: Работа в системе / Управление...</td>\n",
       "      <td>[{'path': 'data/extracted_images\\image_4.png',...</td>\n",
       "      <td>Работа в системе</td>\n",
       "      <td>Управление учетными записями</td>\n",
       "      <td>Редактирование УЗ</td>\n",
       "      <td>Текст секции: Для редактирования данных в УЗ...</td>\n",
       "      <td>46</td>\n",
       "      <td>Работа в системе - Управление учетными записями</td>\n",
       "    </tr>\n",
       "    <tr>\n",
       "      <th>11</th>\n",
       "      <td>16</td>\n",
       "      <td>2</td>\n",
       "      <td>4.2</td>\n",
       "      <td>Название секции: Работа в системе / Управление...</td>\n",
       "      <td>[{'path': 'data/extracted_images\\image_5.png',...</td>\n",
       "      <td>Работа в системе</td>\n",
       "      <td>Управление учетными записями</td>\n",
       "      <td>Удаление УЗ</td>\n",
       "      <td>Текст секции: Нельзя удалить УЗ, которая исп...</td>\n",
       "      <td>54</td>\n",
       "      <td>Работа в системе - Управление учетными записями</td>\n",
       "    </tr>\n",
       "  </tbody>\n",
       "</table>\n",
       "</div>"
      ],
      "text/plain": [
       "    index  question_id sub_question_id  \\\n",
       "8      13            2               4   \n",
       "9      14            2             4.0   \n",
       "10     15            2             4.1   \n",
       "11     16            2             4.2   \n",
       "\n",
       "                                            main_text  \\\n",
       "8   Название секции: Работа в системе / Управление...   \n",
       "9   Название секции: Работа в системе / Управление...   \n",
       "10  Название секции: Работа в системе / Управление...   \n",
       "11  Название секции: Работа в системе / Управление...   \n",
       "\n",
       "                                               images             title  \\\n",
       "8                                                  []  Работа в системе   \n",
       "9                                                  []  Работа в системе   \n",
       "10  [{'path': 'data/extracted_images\\image_4.png',...  Работа в системе   \n",
       "11  [{'path': 'data/extracted_images\\image_5.png',...  Работа в системе   \n",
       "\n",
       "                        subtitle        subsubtitle  \\\n",
       "8   Управление учетными записями                      \n",
       "9   Управление учетными записями        Создание УЗ   \n",
       "10  Управление учетными записями  Редактирование УЗ   \n",
       "11  Управление учетными записями        Удаление УЗ   \n",
       "\n",
       "                                                 text  words_count  \\\n",
       "8    Текст секции: Управление учетными записями (д...           72   \n",
       "9     Текст секции: Для создания УЗ: Нажмите кнопк...           48   \n",
       "10    Текст секции: Для редактирования данных в УЗ...           46   \n",
       "11    Текст секции: Нельзя удалить УЗ, которая исп...           54   \n",
       "\n",
       "                                               name  \n",
       "8   Работа в системе - Управление учетными записями  \n",
       "9   Работа в системе - Управление учетными записями  \n",
       "10  Работа в системе - Управление учетными записями  \n",
       "11  Работа в системе - Управление учетными записями  "
      ]
     },
     "execution_count": 64,
     "metadata": {},
     "output_type": "execute_result"
    }
   ],
   "source": [
    "work_in_system.iloc[[8, 9, 10, 11]]"
   ]
  },
  {
   "cell_type": "code",
   "execution_count": 65,
   "id": "f237d892-4f67-48f8-aed1-aa838755f2b9",
   "metadata": {},
   "outputs": [],
   "source": [
    "work_in_system_main_text2 = 'Название секции: ' + work_in_system['title'].values[0] + ' / ' + get_texts(work_in_system, 8) + ' / ' + get_texts(work_in_system, 9) + ' / ' + get_texts(work_in_system, 10) + ' / ' + get_texts(work_in_system, 11)"
   ]
  },
  {
   "cell_type": "code",
   "execution_count": 67,
   "id": "e7eae8ce-5139-496c-896f-34ea7a7923d7",
   "metadata": {},
   "outputs": [],
   "source": [
    "new_df.append({'title': work_in_system['title'].values[0], 'subtitle': 'Управление учетными записями', 'images': get_images(work_in_system, [8, 9, 10, 11]), 'main_text': work_in_system_main_text2})"
   ]
  },
  {
   "cell_type": "markdown",
   "id": "082a8f12-a61c-4b82-9068-f65846146583",
   "metadata": {
    "jp-MarkdownHeadingCollapsed": true
   },
   "source": [
    "### Объединение данных"
   ]
  },
  {
   "cell_type": "code",
   "execution_count": 93,
   "id": "f0d253f8-673f-42f2-86f1-d76df5fcc9dc",
   "metadata": {},
   "outputs": [],
   "source": [
    "def add_all(section, subtitle, idxs=None):\n",
    "    system = df[df['title'] == section].reset_index(drop=True)\n",
    "    if not idxs:\n",
    "        idxs = system[system['subtitle'] == subtitle].index.tolist()\n",
    "\n",
    "    main_text = 'Название секции: ' + section + ' / ' + ' / '.join([get_texts(system, idx) for idx in idxs]) \n",
    "    images = get_images(system, idxs)\n",
    "\n",
    "    print(len(main_text.split()))\n",
    "    return {'title': section, 'subtitle': subtitle, 'images': images, 'main_text': main_text}"
   ]
  },
  {
   "cell_type": "code",
   "execution_count": 95,
   "id": "5be23b8a-562a-4b76-a799-8654113c6d52",
   "metadata": {},
   "outputs": [
    {
     "name": "stdout",
     "output_type": "stream",
     "text": [
      "136\n",
      "206\n"
     ]
    }
   ],
   "source": [
    "new_df.append(add_all('Работа в системе', 'Управление шаблонами', [23, 25]))\n",
    "new_df.append(add_all('Работа в системе', 'Управление шаблонами', [21, 22, 24]))"
   ]
  },
  {
   "cell_type": "code",
   "execution_count": 97,
   "id": "c31b44ef-9ac7-4406-b7ff-13086cccfdb0",
   "metadata": {},
   "outputs": [
    {
     "name": "stdout",
     "output_type": "stream",
     "text": [
      "138\n",
      "116\n"
     ]
    }
   ],
   "source": [
    "new_df.append(add_all('Работа в системе', 'Настройка шлюзов автоматизации', [3, 4, 7]))\n",
    "new_df.append(add_all('Работа в системе', 'Настройка шлюзов автоматизации', [5, 6]))"
   ]
  },
  {
   "cell_type": "code",
   "execution_count": 103,
   "id": "4bcf7897-ef86-4187-a6f5-3b18b301f28b",
   "metadata": {},
   "outputs": [
    {
     "name": "stdout",
     "output_type": "stream",
     "text": [
      "259\n",
      "167\n",
      "210\n"
     ]
    }
   ],
   "source": [
    "new_df.append(add_all('Работа в системе', 'Иерархия моделей ПО', [12, 14, 20]))\n",
    "new_df.append(add_all('Работа в системе', 'Иерархия моделей ПО', [15, 19]))\n",
    "new_df.append(add_all('Работа в системе', 'Иерархия моделей ПО', [13, 16, 17, 18]))"
   ]
  },
  {
   "cell_type": "code",
   "execution_count": 112,
   "id": "3d3a2e0a-fc24-4cbd-9f93-5ec2488d7927",
   "metadata": {},
   "outputs": [],
   "source": [
    "new_df.append({'title': 'Аннотация', 'subtitle': '', 'images': [], 'main_text': df[df['title'] == 'Аннотация']['main_text'].values[0]})"
   ]
  },
  {
   "cell_type": "code",
   "execution_count": 114,
   "id": "f25d106b-d200-42bc-aded-5d8def83fc3b",
   "metadata": {},
   "outputs": [
    {
     "name": "stdout",
     "output_type": "stream",
     "text": [
      "479\n",
      "379\n",
      "563\n"
     ]
    }
   ],
   "source": [
    "new_df.append(add_all('Работа в системе', 'Аудит конфигурации ПО', [69, 70, 71, 78]))\n",
    "new_df.append(add_all('Работа в системе', 'Аудит конфигурации ПО', [72, 73, 74]))\n",
    "new_df.append(add_all('Работа в системе', 'Аудит конфигурации ПО', [75, 76, 77]))"
   ]
  },
  {
   "cell_type": "code",
   "execution_count": 115,
   "id": "ac87fd2c-c16d-4964-b167-7657c0b85241",
   "metadata": {},
   "outputs": [
    {
     "data": {
      "text/plain": [
       "14"
      ]
     },
     "execution_count": 115,
     "metadata": {},
     "output_type": "execute_result"
    }
   ],
   "source": [
    "len(new_df)"
   ]
  },
  {
   "cell_type": "code",
   "execution_count": 118,
   "id": "5e452435-b044-4ccb-862a-b6a8b094d88e",
   "metadata": {},
   "outputs": [
    {
     "name": "stdout",
     "output_type": "stream",
     "text": [
      "266\n",
      "278\n",
      "325\n"
     ]
    }
   ],
   "source": [
    "new_df.append(add_all('Работа в системе', 'Управление профилями', [26, 27, 35]))\n",
    "new_df.append(add_all('Работа в системе', 'Управление профилями', [28, 29, 30, 31]))\n",
    "new_df.append(add_all('Работа в системе', 'Управление профилями', [32, 33, 34]))"
   ]
  },
  {
   "cell_type": "code",
   "execution_count": 120,
   "id": "0d850d3b-70cb-45f8-b5b0-0d69ece64394",
   "metadata": {},
   "outputs": [
    {
     "name": "stdout",
     "output_type": "stream",
     "text": [
      "330\n",
      "239\n",
      "270\n",
      "376\n",
      "420\n"
     ]
    }
   ],
   "source": [
    "new_df.append(add_all('Работа в системе', 'Управление ресурсами', [53, 54, 55, 56, 57]))\n",
    "new_df.append(add_all('Работа в системе', 'Управление ресурсами', [58, 59]))\n",
    "new_df.append(add_all('Работа в системе', 'Управление ресурсами', [60, 61, 62, 63, 68]))\n",
    "new_df.append(add_all('Работа в системе', 'Управление ресурсами', [64, 65]))\n",
    "new_df.append(add_all('Работа в системе', 'Управление ресурсами', [66, 67]))"
   ]
  },
  {
   "cell_type": "code",
   "execution_count": 123,
   "id": "5ed83c78-7ca7-40e5-abf7-5717e1ad759e",
   "metadata": {},
   "outputs": [
    {
     "name": "stdout",
     "output_type": "stream",
     "text": [
      "234\n",
      "264\n",
      "302\n",
      "264\n",
      "514\n"
     ]
    }
   ],
   "source": [
    "new_df.append(add_all('Работа в системе', 'Управление требованиями', [36, 52]))\n",
    "new_df.append(add_all('Работа в системе', 'Управление требованиями', [37, 38, 39, 40]))\n",
    "new_df.append(add_all('Работа в системе', 'Управление требованиями', [41, 48, 49, 51]))\n",
    "new_df.append(add_all('Работа в системе', 'Управление требованиями', [42, 43, 51]))\n",
    "new_df.append(add_all('Работа в системе', 'Управление требованиями', [44, 45, 46, 47]))"
   ]
  },
  {
   "cell_type": "code",
   "execution_count": 124,
   "id": "5b813b1f-374a-47c5-9231-37c94208c91d",
   "metadata": {},
   "outputs": [
    {
     "data": {
      "text/plain": [
       "27"
      ]
     },
     "execution_count": 124,
     "metadata": {},
     "output_type": "execute_result"
    }
   ],
   "source": [
    "len(new_df)"
   ]
  },
  {
   "cell_type": "code",
   "execution_count": 126,
   "id": "2fc5b522-61ff-4444-9ada-0bda8a4a20bb",
   "metadata": {},
   "outputs": [
    {
     "data": {
      "text/html": [
       "<div>\n",
       "<style scoped>\n",
       "    .dataframe tbody tr th:only-of-type {\n",
       "        vertical-align: middle;\n",
       "    }\n",
       "\n",
       "    .dataframe tbody tr th {\n",
       "        vertical-align: top;\n",
       "    }\n",
       "\n",
       "    .dataframe thead th {\n",
       "        text-align: right;\n",
       "    }\n",
       "</style>\n",
       "<table border=\"1\" class=\"dataframe\">\n",
       "  <thead>\n",
       "    <tr style=\"text-align: right;\">\n",
       "      <th></th>\n",
       "      <th>question_id</th>\n",
       "      <th>sub_question_id</th>\n",
       "      <th>main_text</th>\n",
       "      <th>images</th>\n",
       "      <th>title</th>\n",
       "      <th>subtitle</th>\n",
       "      <th>subsubtitle</th>\n",
       "      <th>text</th>\n",
       "      <th>words_count</th>\n",
       "      <th>name</th>\n",
       "    </tr>\n",
       "  </thead>\n",
       "  <tbody>\n",
       "    <tr>\n",
       "      <th>84</th>\n",
       "      <td>3</td>\n",
       "      <td>0</td>\n",
       "      <td>Название секции: Дополнительная информация / С...</td>\n",
       "      <td>[]</td>\n",
       "      <td>Дополнительная информация</td>\n",
       "      <td>Сообщения об ошибках</td>\n",
       "      <td></td>\n",
       "      <td>Текст секции: Таблица 3. Сообщения об ошибках...</td>\n",
       "      <td>134</td>\n",
       "      <td>Дополнительная информация - Сообщения об ошибках</td>\n",
       "    </tr>\n",
       "  </tbody>\n",
       "</table>\n",
       "</div>"
      ],
      "text/plain": [
       "    question_id sub_question_id  \\\n",
       "84            3               0   \n",
       "\n",
       "                                            main_text images  \\\n",
       "84  Название секции: Дополнительная информация / С...     []   \n",
       "\n",
       "                        title              subtitle subsubtitle  \\\n",
       "84  Дополнительная информация  Сообщения об ошибках               \n",
       "\n",
       "                                                 text  words_count  \\\n",
       "84   Текст секции: Таблица 3. Сообщения об ошибках...          134   \n",
       "\n",
       "                                                name  \n",
       "84  Дополнительная информация - Сообщения об ошибках  "
      ]
     },
     "execution_count": 126,
     "metadata": {},
     "output_type": "execute_result"
    }
   ],
   "source": [
    "df[df['title'] == 'Дополнительная информация']"
   ]
  },
  {
   "cell_type": "code",
   "execution_count": 127,
   "id": "3185e51f-74c9-448f-af59-1abab4cd59d1",
   "metadata": {},
   "outputs": [],
   "source": [
    "new_df.append({'title': 'Дополнительная информация', 'subtitle': 'Сообщения об ошибках', 'images': [], 'main_text': df[df['title'] == 'Дополнительная информация']['main_text'].values[0]})"
   ]
  },
  {
   "cell_type": "code",
   "execution_count": 130,
   "id": "6770edaa-1737-4b43-a899-d890469362a4",
   "metadata": {},
   "outputs": [],
   "source": [
    "new_df = pd.DataFrame(new_df)"
   ]
  },
  {
   "cell_type": "code",
   "execution_count": 131,
   "id": "9a566bdb-5696-4094-96da-235f6a5e47db",
   "metadata": {},
   "outputs": [],
   "source": [
    "new_df['words_count'] = new_df.main_text.apply(lambda x: len(x.split()))\n"
   ]
  },
  {
   "cell_type": "code",
   "execution_count": 136,
   "id": "6843fd0c-dea7-4c3c-a3db-254d11043253",
   "metadata": {},
   "outputs": [
    {
     "data": {
      "text/plain": [
       "<Axes: >"
      ]
     },
     "execution_count": 136,
     "metadata": {},
     "output_type": "execute_result"
    },
    {
     "data": {
      "image/png": "[encoded data removed]",
      "text/plain": [
       "<Figure size 640x480 with 1 Axes>"
      ]
     },
     "metadata": {},
     "output_type": "display_data"
    }
   ],
   "source": [
    "new_df['words_count'].hist(bins=10)"
   ]
  },
  {
   "cell_type": "code",
   "execution_count": 137,
   "id": "6cb9edef-2656-4f38-a4e1-e12724ab3483",
   "metadata": {},
   "outputs": [],
   "source": [
    "new_df.to_csv('radik_data.csv', index=False)"
   ]
  },
  {
   "cell_type": "code",
   "execution_count": null,
   "id": "af96bd74-eb9d-459e-bd69-a7a20e75af9c",
   "metadata": {},
   "outputs": [],
   "source": []
  }
 ],
 "metadata": {
  "kernelspec": {
   "display_name": "Python 3 (ipykernel)",
   "language": "python",
   "name": "python3"
  },
  "language_info": {
   "codemirror_mode": {
    "name": "ipython",
    "version": 3
   },
   "file_extension": ".py",
   "mimetype": "text/x-python",
   "name": "python",
   "nbconvert_exporter": "python",
   "pygments_lexer": "ipython3",
   "version": "3.11.10"
  }
 },
 "nbformat": 4,
 "nbformat_minor": 5
}
