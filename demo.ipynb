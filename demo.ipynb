{
 "cells": [
  {
   "cell_type": "code",
   "execution_count": null,
   "id": "0837bea3-7381-4e27-ab47-472650e3278f",
   "metadata": {},
   "outputs": [],
   "source": [
    "!pip install -r requirements.txt"
   ]
  },
  {
   "cell_type": "code",
   "execution_count": 2,
   "id": "e239fe97-8b4c-4e33-a0be-64ed7d7ff419",
   "metadata": {},
   "outputs": [],
   "source": [
    "import pandas as pd\n",
    "import openai\n",
    "import os\n",
    "import docx\n",
    "import json\n",
    "from pprint import pprint\n",
    "from tqdm import tqdm\n",
    "import torch, gc\n",
    "\n",
    "from langchain.document_loaders import DataFrameLoader\n",
    "from langchain.text_splitter import RecursiveCharacterTextSplitter\n",
    "from langchain_community.embeddings import HuggingFaceEmbeddings\n",
    "from langchain.vectorstores import FAISS\n",
    "\n",
    "from extraction.docx_module import DocxHandler\n",
    "from retriever.milvus_hybrid import MilvusHybridSearchHandler\n",
    "from rag.llm_module_radmir import LLMManager\n",
    "from main import QASystem"
   ]
  },
  {
   "cell_type": "code",
   "execution_count": 3,
   "id": "6a3075c5-7ccd-4401-897e-1344c94a4386",
   "metadata": {
    "scrolled": true
   },
   "outputs": [
    {
     "name": "stderr",
     "output_type": "stream",
     "text": [
      "/workspace/october/main.py:46: LangChainDeprecationWarning: The class `HuggingFaceEmbeddings` was deprecated in LangChain 0.2.2 and will be removed in 1.0. An updated version of the class exists in the :class:`~langchain-huggingface package and should be used instead. To use it run `pip install -U :class:`~langchain-huggingface` and import as `from :class:`~langchain_huggingface import HuggingFaceEmbeddings``.\n",
      "  self.hf_embeddings = HuggingFaceEmbeddings(\n"
     ]
    },
    {
     "name": "stdout",
     "output_type": "stream",
     "text": [
      "Collection 'sila_collection_test3' loaded.\n",
      "INFO 10-27 05:46:41 gptq_marlin.py:107] The model is convertible to gptq_marlin during runtime. Using gptq_marlin kernel.\n",
      "INFO 10-27 05:46:41 llm_engine.py:237] Initializing an LLM engine (v0.6.3.post1) with config: model='qilowoq/Vikhr-Nemo-12B-Instruct-R-21-09-24-4Bit-GPTQ', speculative_config=None, tokenizer='qilowoq/Vikhr-Nemo-12B-Instruct-R-21-09-24-4Bit-GPTQ', skip_tokenizer_init=False, tokenizer_mode=auto, revision=None, override_neuron_config=None, rope_scaling=None, rope_theta=None, tokenizer_revision=None, trust_remote_code=False, dtype=torch.float16, max_seq_len=8000, download_dir=None, load_format=LoadFormat.AUTO, tensor_parallel_size=1, pipeline_parallel_size=1, disable_custom_all_reduce=False, quantization=gptq_marlin, enforce_eager=False, kv_cache_dtype=auto, quantization_param_path=None, device_config=cuda, decoding_config=DecodingConfig(guided_decoding_backend='outlines'), observability_config=ObservabilityConfig(otlp_traces_endpoint=None, collect_model_forward_time=False, collect_model_execute_time=False), seed=0, served_model_name=qilowoq/Vikhr-Nemo-12B-Instruct-R-21-09-24-4Bit-GPTQ, num_scheduler_steps=1, chunked_prefill_enabled=False multi_step_stream_outputs=True, enable_prefix_caching=False, use_async_output_proc=True, use_cached_outputs=False, mm_processor_kwargs=None)\n",
      "INFO 10-27 05:46:42 model_runner.py:1056] Starting to load model qilowoq/Vikhr-Nemo-12B-Instruct-R-21-09-24-4Bit-GPTQ...\n",
      "INFO 10-27 05:46:42 gptq_marlin.py:198] Using MarlinLinearKernel for GPTQMarlinLinearMethod\n",
      "INFO 10-27 05:46:42 weight_utils.py:243] Using model weights format ['*.safetensors']\n"
     ]
    },
    {
     "data": {
      "application/vnd.jupyter.widget-view+json": {
       "model_id": "2f938226197943a0a94a53f8697acde3",
       "version_major": 2,
       "version_minor": 0
      },
      "text/plain": [
       "Loading safetensors checkpoint shards:   0% Completed | 0/2 [00:00<?, ?it/s]\n"
      ]
     },
     "metadata": {},
     "output_type": "display_data"
    },
    {
     "name": "stdout",
     "output_type": "stream",
     "text": [
      "INFO 10-27 05:46:45 model_runner.py:1067] Loading model weights took 8.0405 GB\n",
      "INFO 10-27 05:46:47 gpu_executor.py:122] # GPU blocks: 12193, # CPU blocks: 1638\n",
      "INFO 10-27 05:46:47 gpu_executor.py:126] Maximum concurrency for 8000 tokens per request: 24.39x\n",
      "INFO 10-27 05:46:50 model_runner.py:1395] Capturing the model for CUDA graphs. This may lead to unexpected consequences if the model is not static. To run the model in eager mode, set 'enforce_eager=True' or use '--enforce-eager' in the CLI.\n",
      "INFO 10-27 05:46:50 model_runner.py:1399] CUDA graphs can take additional 1~3 GiB memory per GPU. If you are running out of memory, consider decreasing `gpu_memory_utilization` or enforcing eager mode. You can also reduce the `max_num_seqs` as needed to decrease memory usage.\n",
      "INFO 10-27 05:47:09 model_runner.py:1523] Graph capturing finished in 19 secs.\n"
     ]
    }
   ],
   "source": [
    "# очистка кэша\n",
    "gc.collect()\n",
    "torch.cuda.empty_cache()\n",
    "\n",
    "docx_path = 'data/train/documentation.docx'       # путь к .docx файлу для обработки\n",
    "csv_path = 'data/train/rag_df_processed.csv'      # путь к предварительно обработанному .csv файлу\n",
    "collection_name = 'sila_collection_test3'         # название коллекции Milvus для dense search\n",
    "embedding_model = \"deepvk/USER-bge-m3\"            # модель векторизации\n",
    "connection_uri = 'milvus.db'                      # URI для подключения к базе данных Milvus\n",
    "num_docs = 7                                      # количество документов для извлечения по запросу\n",
    "device = 'cuda'                                   # устройство для создания векторных представлений (например, 'cuda' или 'cpu')\n",
    "\n",
    "# определение системного класса\n",
    "qa_system = QASystem(\n",
    "    docx_path=docx_path,\n",
    "    csv_path=csv_path,\n",
    "    collection_name=collection_name,\n",
    "    embedding_model=embedding_model,\n",
    "    connection_uri=connection_uri,\n",
    "    num_docs=num_docs,\n",
    "    device=device\n",
    ")"
   ]
  },
  {
   "cell_type": "code",
   "execution_count": 4,
   "id": "37ff1901-deba-4cda-9b81-d6678c523844",
   "metadata": {
    "scrolled": true
   },
   "outputs": [
    {
     "name": "stderr",
     "output_type": "stream",
     "text": [
      "Processed prompts: 100%|██████████| 1/1 [00:02<00:00,  2.63s/it, est. speed input: 368.69 toks/s, output: 60.56 toks/s]\n"
     ]
    },
    {
     "name": "stdout",
     "output_type": "stream",
     "text": [
      "Query: Как редактировать данные в УЗ? | **Управление учетными записями в Системе управления безопасностью конфигураций ПО (СУБКК)**\n",
      "\n",
      "Для редактирования данных в учетной записи в Системе управления безопасностью конфигураций ПО (СУБКК), необходимо войти в систему с правами администратора. После авторизации, в панели управления доступна функция редактирования учетных записей. Каждая учетная запись имеет уникальный идентификатор и статус активности, который можно изменить в соответствии с требованиями безопасности и политиками организации. Редактирование данных включает изменение личной информации пользователя, его ролей и привилегий в системе.\n"
     ]
    },
    {
     "name": "stderr",
     "output_type": "stream",
     "text": [
      "Processed prompts: 100%|██████████| 1/1 [00:01<00:00,  1.73s/it, est. speed input: 2969.49 toks/s, output: 5.79 toks/s]\n"
     ]
    },
    {
     "name": "stdout",
     "output_type": "stream",
     "text": [
      "relevant indexes: [0]\n",
      "[{'id': 0, 'main_text': 'Название секции: Работа в системе / Управление учетными записями |  Текст секции: Управление учетными записями (далее – УЗ) позволяет использовать их для доступа к ресурсам. Система содержит следующую информацию об УЗ: наименование; логин; пароль; отметка об использовании. Отметка об использовании показывает, используется ли УЗ в каком-либо ресурсе. С УЗ можно осуществлять следующие действия: создавать; редактировать; удалять. Для управления УЗ требуется выбрать пункт «Администрирование» – «Учетные записи ПО» в меню на странице системы. / Управление учетными записями - Создание УЗ |   Текст секции: Для создания УЗ: Нажмите кнопку «+ Создать» и дождитесь появления окна создания УЗ. Введите наименование УЗ. Введите логин УЗ. Введите пароль УЗ. Нажмите кнопку «Сохранить». Убедитесь, что созданная УЗ появилась в списке УЗ. / Управление учетными записями - Редактирование УЗ |   Текст секции: Для редактирования данных в УЗ: Нажмите на УЗ, которую требуется отредактировать, в списке УЗ. Нажмите отмеченную кнопку (Рисунок 4) в карточке УЗ. Внесите необходимые изменения в данные УЗ. Нажмите кнопку «Сохранить». / Управление учетными записями - Удаление УЗ |   Текст секции: Нельзя удалить УЗ, которая используется в ресурсах. Для удаления УЗ: Нажмите на УЗ, которую требуется удалить, в списке УЗ. Нажмите отмеченную кнопку (Рисунок 5) в карточке УЗ. Подтвердите удаление во всплывшем окне. Убедитесь, что УЗ исчезла из списка УЗ.', 'images': \"[[{'path': 'data/extracted_images\\\\\\\\image_4.png', 'description': 'Рисунок 4. Редактирование УЗ'}], [{'path': 'data/extracted_images\\\\\\\\image_5.png', 'description': 'Рисунок 5. Удаление УЗ'}]]\"}]\n"
     ]
    },
    {
     "name": "stderr",
     "output_type": "stream",
     "text": [
      "Processed prompts: 100%|██████████| 1/1 [00:02<00:00,  2.84s/it, est. speed input: 239.50 toks/s, output: 61.73 toks/s]\n"
     ]
    },
    {
     "name": "stdout",
     "output_type": "stream",
     "text": [
      "generated_answer Для редактирования данных в учетной записи (УЗ) вам необходимо выполнить следующие шаги:\n",
      "\n",
      "1. Нажмите на учетную запись, которую вы хотите отредактировать, в списке учетных записей.\n",
      "2. Нажмите на кнопку редактирования, которая обозначена как \"Рисунок 4\" в карточке выбранной учетной записи.\n",
      "3. Внесите необходимые изменения в данные учетной записи.\n",
      "4. Нажмите кнопку \"Сохранить\", чтобы сохранить внесенные изменения.\n",
      "\n",
      "Обратите внимание, что перед удалением или редактированием учетной записи, которая используется в каких-либо ресурсах, убедитесь, что это не приведет к потере доступа к этим ресурсам.\n",
      "paths_with_titles [{'path': 'data/extracted_images\\\\image_4.png', 'description': 'Рисунок 4. Редактирование УЗ'}, {'path': 'data/extracted_images\\\\image_5.png', 'description': 'Рисунок 5. Удаление УЗ'}]\n"
     ]
    },
    {
     "name": "stderr",
     "output_type": "stream",
     "text": [
      "Processed prompts: 100%|██████████| 1/1 [00:00<00:00,  4.18it/s, est. speed input: 1292.93 toks/s, output: 41.97 toks/s]"
     ]
    },
    {
     "name": "stdout",
     "output_type": "stream",
     "text": [
      "llm_photos_ids {\"relevant_doc_ids\": [0]}\n"
     ]
    },
    {
     "name": "stderr",
     "output_type": "stream",
     "text": [
      "\n"
     ]
    }
   ],
   "source": [
    "question = \"Как редактировать данные в УЗ?\"\n",
    "answer = qa_system.answer_question(question, use_hyde=True)"
   ]
  },
  {
   "cell_type": "code",
   "execution_count": 5,
   "id": "c53cb3bb-d536-4758-95a0-1b813730bdea",
   "metadata": {},
   "outputs": [
    {
     "name": "stdout",
     "output_type": "stream",
     "text": [
      "Для редактирования данных в учетной записи (УЗ) вам необходимо выполнить следующие шаги:\n",
      "\n",
      "1. Нажмите на учетную запись, которую вы хотите отредактировать, в списке учетных записей.\n",
      "2. Нажмите на кнопку редактирования, которая обозначена как \"Рисунок 4\" в карточке выбранной учетной записи.\n",
      "3. Внесите необходимые изменения в данные учетной записи.\n",
      "4. Нажмите кнопку \"Сохранить\", чтобы сохранить внесенные изменения.\n",
      "\n",
      "Обратите внимание, что перед удалением или редактированием учетной записи, которая используется в каких-либо ресурсах, убедитесь, что это не приведет к потере доступа к этим ресурсам.\n"
     ]
    }
   ],
   "source": [
    "print(answer[0])"
   ]
  },
  {
   "cell_type": "markdown",
   "id": "f5c0c3f1-ac79-4d1b-84a7-cd6f21c37563",
   "metadata": {},
   "source": [
    "#### Создание файла со всеми ответам (QA_all.docx)"
   ]
  },
  {
   "cell_type": "code",
   "execution_count": null,
   "id": "ef90dd3c-fb9d-4f7d-873c-749b25764db9",
   "metadata": {},
   "outputs": [],
   "source": [
    "all_questions = [\n",
    "    \"С чего начать работу?\",\n",
    "    \"Какой первый шаг?\",\n",
    "    \"Как провести аудит?\",\n",
    "    \"Что такое «Профиль»?\",\n",
    "    \"Как создать профиль?\",\n",
    "    \"Как создать требование?\",\n",
    "    \"Что такое применимость профиля? Применимость требования? Могут ли применимости не совпадать?\",\n",
    "    \"Как создать ресурс? Где взять IP-адрес ресурса?\",\n",
    "    \"Зачем нужен ресурс оффлайн?\",\n",
    "    \"Не создается ресурс, что делать?\",\n",
    "    \"Как включить шлюз?\",\n",
    "    \"В области аудита не виден профиль, почему?\",\n",
    "    \"Почему не отображается ресурс при создании области аудита?\",\n",
    "    \"Почему в требовании во вкладке «Сбор конфигурации» не отображается созданный ресурс?\",\n",
    "    \"Что такое «Шаблон»?\",\n",
    "    \"Выполнен аудит, почему статус протокола остался «В работе»?\",\n",
    "    \"Модели ПО для чего нужны? Кто их создает?\",\n",
    "    \"Как работать с Моделью ПО?\",\n",
    "    \"Модели ПО и их связь с программной топологией ресурса\",\n",
    "    \"Учетные записи ПО и их связь с программной топологией ресурса\",\n",
    "    \"Закончилась лицензия КК – как продлить?\",\n",
    "    \"Можно ли редактировать профиль «Активный»?\",\n",
    "    \"Можно ли редактировать профиль «Архивный»?\",\n",
    "    \"Можно ли создать копию профиля?\",\n",
    "    \"Можно ли выгрузить скрипты выполненного протокола?\",\n",
    "    \"Сколько максимально можно создать ресурсов?\",\n",
    "    \"Сколько максимально можно создать профилей?\",\n",
    "    \"Сколько максимально можно создать требований в профиле?\",\n",
    "    \"Возможные ошибки при аудите?\",\n",
    "    \"Статусы проверок в протоколе: «соответствует», «не соответствует», «в работе», «не применимо»\",\n",
    "    \"Создано 2 блока применимости требования, выбираю требование, в нем не отображаются заполненные поля скрипта, почему?\",\n",
    "    \"Не могу удалить профиль, почему?\",\n",
    "    \"Можно ли создать свой шаблон и выгрузить его?\",\n",
    "    \"Где ознакомиться с документацией на КК?\",\n",
    "    \"Откуда берется балл протокола? Как считается?\",\n",
    "    \"Типы ошибок в КК\",\n",
    "    \"Авторизация: не получается авторизоваться, что делать? Пароль не подходит\"\n",
    "]"
   ]
  },
  {
   "cell_type": "code",
   "execution_count": null,
   "id": "a6773443-5548-4cdd-95ed-0391903f99c3",
   "metadata": {},
   "outputs": [],
   "source": [
    "from docx import Document\n",
    "from docx.shared import Pt, Inches\n",
    "from docx.oxml.ns import qn\n",
    "from docx.enum.text import WD_PARAGRAPH_ALIGNMENT\n",
    "from docx.enum.section import WD_SECTION\n",
    "from docx.enum.table import WD_TABLE_ALIGNMENT\n",
    "import os\n",
    "\n",
    "# Инициализация документа\n",
    "doc = Document()\n",
    "\n",
    "# Добавление заголовка\n",
    "doc.add_heading('Вопросы и ответы по тематике КК', level=1)\n",
    "\n",
    "# Обработка каждого вопроса\n",
    "for question in all_questions:\n",
    "    # Получение ответа и списка фотографий\n",
    "    answer, photos, _ = qa_system.answer_question(question, use_hyde=True)\n",
    "    \n",
    "    # Добавление параграфа с вопросом\n",
    "    q_paragraph = doc.add_paragraph()\n",
    "    q_run = q_paragraph.add_run(f\"Вопрос: {question}\")\n",
    "    q_run.bold = True  # Жирный шрифт для вопроса\n",
    "    \n",
    "    # Добавление параграфа с ответом\n",
    "    a_paragraph = doc.add_paragraph()\n",
    "    a_run = a_paragraph.add_run(f\"Ответ: {answer}\")\n",
    "    a_run.font.size = Pt(11)  # Размер шрифта для ответа\n",
    "    a_run.font.name = 'Calibri'  # Шрифт для ответа\n",
    "    a_paragraph.paragraph_format.left_indent = Inches(0.25)  # Отступ для ответа\n",
    "    \n",
    "    # Проверка наличия фотографий\n",
    "    if photos:\n",
    "        print(photos)\n",
    "        for photo in photos:\n",
    "            photo_path = photo.get('path').replace('\\\\', '/')\n",
    "            photo_description = photo.get('description', 'Описание отсутствует')\n",
    "            \n",
    "            # Проверка существования файла фотографии\n",
    "            if os.path.exists(photo_path):\n",
    "                # Добавление фотографии\n",
    "                try:\n",
    "                    # Вставка изображения с заданной шириной (например, 4 дюйма)\n",
    "                    doc.add_picture(photo_path, width=Inches(4))\n",
    "                    \n",
    "                    # Получение последнего добавленного параграфа (под фотографией)\n",
    "                    last_paragraph = doc.paragraphs[-1]\n",
    "                    \n",
    "                    # Центрирование фотографии\n",
    "                    last_paragraph.alignment = WD_PARAGRAPH_ALIGNMENT.CENTER\n",
    "                    \n",
    "                    # Добавление описания фотографии\n",
    "                    desc_paragraph = doc.add_paragraph()\n",
    "                    desc_run = desc_paragraph.add_run(f\"Описание фотографии: {photo_description}\")\n",
    "                    desc_run.font.size = Pt(10)  # Размер шрифта для описания\n",
    "                    desc_run.font.name = 'Calibri'  # Шрифт для описания\n",
    "                    desc_paragraph.alignment = WD_PARAGRAPH_ALIGNMENT.CENTER  # Центрирование описания\n",
    "                except Exception as e:\n",
    "                    print(f\"Ошибка при вставке изображения {photo_path}: {e}\")\n",
    "            else:\n",
    "                print(f\"Файл фотографии не найден: {photo_path}\")\n",
    "    \n",
    "    # Добавление пустой строки для разделения Q&A\n",
    "    doc.add_paragraph(\"\\n\")\n",
    "\n",
    "# Сохранение документа\n",
    "doc.save(\"QA_all.docx\")"
   ]
  },
  {
   "cell_type": "code",
   "execution_count": null,
   "id": "36a353b2-81cc-4fc2-a687-9c2e34730823",
   "metadata": {},
   "outputs": [],
   "source": []
  }
 ],
 "metadata": {
  "kernelspec": {
   "display_name": "Python 3 (ipykernel)",
   "language": "python",
   "name": "python3"
  },
  "language_info": {
   "codemirror_mode": {
    "name": "ipython",
    "version": 3
   },
   "file_extension": ".py",
   "mimetype": "text/x-python",
   "name": "python",
   "nbconvert_exporter": "python",
   "pygments_lexer": "ipython3",
   "version": "3.11.10"
  }
 },
 "nbformat": 4,
 "nbformat_minor": 5
}
